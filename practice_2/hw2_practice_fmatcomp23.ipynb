{
 "cells": [
  {
   "cell_type": "markdown",
   "metadata": {
    "id": "ZELSweDvTyN6",
    "pycharm": {
     "name": "#%% md\n"
    }
   },
   "source": [
    "# Практическое ДЗ-2. Использование ALS для построения рекомендательной модели"
   ]
  },
  {
   "cell_type": "markdown",
   "metadata": {
    "id": "Yf0VwGfTTyN6",
    "pycharm": {
     "name": "#%% md\n"
    }
   },
   "source": [
    "В этой задаче мы построим простую рекомендательную модель на основе малоранговых приближений. "
   ]
  },
  {
   "cell_type": "code",
   "execution_count": 25,
   "metadata": {
    "id": "Fhwokt4cTyN7",
    "pycharm": {
     "name": "#%%\n"
    }
   },
   "outputs": [],
   "source": [
    "import numpy as np\n",
    "import scipy.sparse\n",
    "import matplotlib.pyplot as plt\n",
    "%matplotlib inline"
   ]
  },
  {
   "cell_type": "markdown",
   "metadata": {
    "id": "EJ3WCOxFTyN_",
    "pycharm": {
     "name": "#%% md\n"
    }
   },
   "source": [
    "### Подготовка датасета\n",
    "Загрузите датасет movielens10m с [grouplens.org](https://grouplens.org/datasets/movielens/10m/) или [disk.yandex.ru](https://disk.yandex.ru/d/HIjLehGZEcCRig) и положите архив в папку `data`. Нас будет интересовать файл `ratings.dat`, в котором собраны оценки пользователями различных фильмов с сервиса movielens.org. Вытащим этот файл из архива. Как можно узнать из соответствующей [странички](http://files.grouplens.org/datasets/movielens/ml-10m-README.html#file_desc), этот файл имеет формат `UserID::MovieID::Rating::Timestamp`. Сразу позаботимся, чтобы id пользователей и фильмов начинались с нуля (в самом файле индексация с единицы)."
   ]
  },
  {
   "cell_type": "code",
   "execution_count": 26,
   "metadata": {
    "id": "JJJ8tRX-TyN_",
    "pycharm": {
     "name": "#%%\n"
    },
    "scrolled": true
   },
   "outputs": [],
   "source": [
    "import zipfile\n",
    "user_ids = []\n",
    "movie_ids = []\n",
    "ratings = []\n",
    "with zipfile.ZipFile('data/ml-10m.zip') as archive:\n",
    "    with archive.open('ml-10M100K/ratings.dat') as f:\n",
    "        for l in f:\n",
    "            user, movie, rating, _ = l.split(b'::')\n",
    "            user_ids.append(int(user) - 1)\n",
    "            movie_ids.append(int(movie) - 1)\n",
    "            ratings.append(float(rating))"
   ]
  },
  {
   "cell_type": "markdown",
   "metadata": {
    "id": "vcVcCOT8TyOA",
    "pycharm": {
     "name": "#%% md\n"
    }
   },
   "source": [
    "Составим матрицу рейтингов $A \\in \\mathbb R^{m \\times n}$, индексируемую номером пользователем и номером фильма.\n",
    "Для простоты мы будем делить отзывы только на положительные (`Rating >= 4` &mdash; $A_{i,j}=1$) и отрицательные (`Rating < 4` &mdash; $A_{i,j} = 0$), таким образом, матрица у нас получится состоящей только из нулей и единиц.\n",
    "Обратите внимание, что матрица будет разреженной, так как средний пользователь оценил относительно мало фильмов. Поэтому мы будем пользоваться библиотекой `scipy.sparse`. Хранить матрицу мы будем в формате хранения разреженных матриц [CSR](https://en.wikipedia.org/wiki/Sparse_matrix#Compressed_sparse_row_(CSR,_CRS_or_Yale_format)), который поддерживает матричное умножение на numpy массивы: ```A @ X ```."
   ]
  },
  {
   "cell_type": "code",
   "execution_count": 27,
   "metadata": {
    "id": "Via3f58zTyOA",
    "pycharm": {
     "name": "#%%\n"
    },
    "scrolled": true
   },
   "outputs": [
    {
     "name": "stdout",
     "output_type": "stream",
     "text": [
      "Shape: (71567, 65133)\n",
      "Ratio of nonzero elements: 0.0010738646228571796\n"
     ]
    }
   ],
   "source": [
    "from scipy.sparse import csr_matrix\n",
    "A = csr_matrix((np.array(ratings) >= 4, (user_ids, movie_ids)), dtype=np.float32)\n",
    "A.eliminate_zeros()\n",
    "print(\"Shape:\", A.shape)\n",
    "print(\"Ratio of nonzero elements:\", A.nnz / (A.shape[0] * A.shape[1]))"
   ]
  },
  {
   "cell_type": "markdown",
   "metadata": {
    "id": "n7IH4xmRTyOB",
    "pycharm": {
     "name": "#%% md\n"
    }
   },
   "source": [
    "Отделим некоторое количество пользователей для последующей проверки. Используем стандартное разбиение train/test 80/20."
   ]
  },
  {
   "cell_type": "code",
   "execution_count": 28,
   "metadata": {
    "id": "hkVwyh5BTyOB",
    "pycharm": {
     "name": "#%%\n"
    }
   },
   "outputs": [],
   "source": [
    "n_users, n_movies = A.shape\n",
    "n_test = int(n_users * 0.2)\n",
    "n_train = n_users - n_test\n",
    "idx = np.arange(n_users)\n",
    "np.random.shuffle(idx)\n",
    "test_idx, train_idx = idx[:n_test], idx[n_test:]\n",
    "A_test, A_train = A[test_idx,:], A[train_idx,:]"
   ]
  },
  {
   "cell_type": "markdown",
   "metadata": {
    "id": "1yD1HCUByDHB",
    "pycharm": {
     "name": "#%% md\n"
    }
   },
   "source": [
    "Далее в задаче мы будем строить рекомендации пользователям на основе малорангового приближения матрицы $A$ (матрицы $A_{train}$ в рамках обозначений выше). \n",
    "Обратим внимание, что из-за ограничений по памяти мы не можем сформировать матрицу $A$ в виде numpy массива, а значит теряем доступ к ```np.linalg.svd```. Поэтому мы будем реализовывать метод ALS, в котором требуется только умножение на матрицы $A$ и $A^\\top$, что поддерживается разреженными форматами хранения матриц (CSR, COO и тд).\n",
    "\n",
    "### a. (35 баллов) Вычисление вспомогательных функционалов\n",
    "\n",
    "  1. **(15 баллов)** Напомним, что в методе ALS решается задача минимизации функционала $f(U, V^\\top) = \\|A - UV^\\top\\|_F$ по всем $U \\in \\mathbb R^{m \\times r}$ и $V  \\in \\mathbb R^{n \\times r}$. Первым делом вам нужно будет написать функцию `als_functional` для вычисления оптимизируемого функционала $\\|A - UV^\\top\\|_F$ для заданных $A$, $U$, $V^\\top$. Заметьте, что прямое вычисление этой нормы &mdash; очень трудоёмкая задача, ведь разность будет плотной матрицей. Для того, чтобы эффективно вычислить норму разности, распишите $\\|A - UV^\\top\\|_F^2$ через скалярное произведение $\\langle X,Y \\rangle_F = \\mathrm{Tr}\\,(X^\\top Y)$, выполните алгебраические преобразования и покажите, как эффективно вычислить каждый член в полученном выражении. Имеется в виду, что ни на каком этапе вы не должны явно формировать плотные матрицы размеров `A.shape` (хотя numpy, скорее всего, и откажется аллоцировать 37 ГБ под такой массив).\n",
    "  \n",
    "  **Замечание**: не используйте циклы по ненулевым элементам разреженной матрицы $A$. Убедитесь, что в ваши формулы входит только умножение на матрицы $A$ или $A^\\top$, на которые можно умножать посредством @; либо умножения сложности $O(mr^2), O(nr^2)$. Также отметим, что норма матрицы $A$ уже дана, заново её вычислять не надо. Везде считайте $r < m, n$."
   ]
  },
  {
   "cell_type": "markdown",
   "metadata": {
    "collapsed": false,
    "pycharm": {
     "name": "#%% md\n"
    }
   },
   "source": [
    "$\\|A - UV^T\\|_F^2 = \\langle A - UV^T, A - UV^T \\rangle = Tr((A - UV^T)^T (A - UV^T))$"
   ]
  },
  {
   "cell_type": "markdown",
   "metadata": {
    "collapsed": false,
    "pycharm": {
     "name": "#%% md\n"
    }
   },
   "source": [
    "Юзаем линейность трейса: $= Tr(A^TA) + Tr(VU^TUV^T) - Tr(A^TUV^T) - Tr(VU^TA)$\n",
    "\n",
    "Теперь добьем необходимыми слагаемыми, чтобы получить искомую норму:\n",
    "\n",
    "$Tr(A^TA) + Tr(VU^TUV^T) - Tr(A^TUV^T) - Tr(VU^TA) + 2Tr(V^TA^TU) - Tr(V^TVU^TU) = \\|A\\|_F^2$"
   ]
  },
  {
   "cell_type": "code",
   "execution_count": 29,
   "metadata": {
    "id": "U9ZqSC1_TyOC",
    "pycharm": {
     "name": "#%%\n"
    }
   },
   "outputs": [],
   "source": [
    "def als_functional(A, A_norm, U, VT):\n",
    "    \"\"\"\n",
    "        Input\n",
    "            A: sparse 2D array\n",
    "            A_norm: Frobenius norm of A\n",
    "            U, VT: 2D arrays such that U @ VT approximates A\n",
    "        Output\n",
    "            ||A - U VT||_F\n",
    "    \"\"\"\n",
    "    return np.sqrt(A_norm * A_norm - 2 * np.trace(((VT @ A.T)) @ U) + np.trace((VT @ VT.T) @ (U.T @ U)))"
   ]
  },
  {
   "cell_type": "code",
   "execution_count": 32,
   "metadata": {
    "collapsed": false,
    "pycharm": {
     "name": "#%%\n"
    }
   },
   "outputs": [
    {
     "name": "stdout",
     "output_type": "stream",
     "text": [
      "diff: 1.1368683772161603e-13\n"
     ]
    }
   ],
   "source": [
    "m, n = (1000, 500)\n",
    "r = 100\n",
    "\n",
    "A = np.random.randn(m, n)\n",
    "A_norm = np.linalg.norm(A)\n",
    "Q, R = np.linalg.qr(A)\n",
    "Q, R = Q[:, :r], R[:r, :]\n",
    "print(\"diff:\", np.linalg.norm(A - Q@R) - als_functional(A, A_norm, Q, R))"
   ]
  },
  {
   "cell_type": "markdown",
   "metadata": {
    "id": "NqrSPQn0LR4H",
    "pycharm": {
     "name": "#%% md\n"
    }
   },
   "source": [
    "**Замечание:** Если вы не сможете выполнить следующие два пункта, можете их пропустить. Они не являются обязательными для следующих заданий."
   ]
  },
  {
   "cell_type": "markdown",
   "metadata": {
    "id": "g5GU38ZfTyOD",
    "pycharm": {
     "name": "#%% md\n"
    }
   },
   "source": [
    "  2. **(10 баллов)** Ещё одной метрикой сходимости ALS-процесса, помимо стабилизации самого функционала, может служить так называемое расстояние между подпространствами. Расстоянием между подпространствами $L_1 \\subset \\mathbb{R}^m$ и $L_2 \\subset \\mathbb{R}^m$ будем называть число $\\|P(L_1) - P(L_2)\\|_2$, где $P(L_i)$ &mdash; ортопроектор на $L_i$. Опишите алгоритм вычисления расстояния между двумя подпространствами $\\mathrm{Im}(U_1)$ и $\\mathrm{Im}(U_2)$ для заданных матриц $U_1, U_2 \\in \\mathbb{R}^{m \\times r}$ с ортонормированными столбцами (т.е. $U_i^T U_i = I$). Алгоритм должен иметь сложность $O(mr^2)$. **Подсказка.** Воспользуйтесь фактом, что ортопроекторы являются матрицами малого ранга $r$, и техникой малоранговой арифметики, описанной на соответствующих лекции и семинаре."
   ]
  },
  {
   "attachments": {},
   "cell_type": "markdown",
   "metadata": {
    "id": "z7Fxh5EDTyOD",
    "pycharm": {
     "name": "#%% md\n"
    }
   },
   "source": [
    "Мы знаем, что расстояние между подпространствами можно заменить на расстояние между ортопроекторами, поэтому хотим\n",
    "\n",
    "$\\|P(Im(U_1) - P(Im(U_2))) \\|_2 = \\|U_1 U_1^T - U_2U_2^T\\|_2$ (помним с первого прака)\n",
    "\n",
    "дальше если домножить справа каждое из вычитаемых на одно и тоже норма не изменится (ну потому что унитарная инвариантность)\n",
    "\n",
    "$\\|U_1 U_1^TU_1 - U_2U_2^TU_1\\|_2 = \\|U_1 - U_2U_2^TU_1 \\|_2$ (из условия тк ОНБ)\n",
    "\n",
    "Теперь можно вспомнить, что спекртальная норма - это первое сингулярное число разложения матрицы, а значит нам достаточно считать trunc_svd()\n",
    "\n",
    "Получаем требуюмую общую сложность, потому что сложность умножения (бутылочного горлышка) по крайней мере не хуже, чем у нас попросили"
   ]
  },
  {
   "cell_type": "markdown",
   "metadata": {
    "id": "XjH9NjfATyOD",
    "pycharm": {
     "name": "#%% md\n"
    }
   },
   "source": [
    "  3. **(10 баллов)** Напишите функцию `dist_between_subspaces`, принимающую на вход матрицы $U_1, U_2 \\in \\mathbb{R}^{m\\times r}$ с ортонормированными столбцами, и возвращающую расстояние от $\\mathrm{Im}(U_1)$ до $\\mathrm{Im}(U_2)$. Сложность алгоритма должна быть $O(mr^2)$."
   ]
  },
  {
   "cell_type": "code",
   "execution_count": 33,
   "metadata": {
    "id": "YiBRvfriTyOD",
    "pycharm": {
     "name": "#%%\n"
    }
   },
   "outputs": [],
   "source": [
    "def dist_between_subspaces(U1, U2):\n",
    "    \"\"\"\n",
    "        Input\n",
    "            U1, U2: matrices with orthonormal columns\n",
    "        Output\n",
    "            Distance between Im(U1) and Im(U2)\n",
    "    \"\"\"\n",
    "    _, s, _ = np.linalg.svd((U1 - U2 @ (U2.T @ U1)), False)\n",
    "    return s[0]"
   ]
  },
  {
   "cell_type": "markdown",
   "metadata": {
    "id": "Rzuzjg7qTyOE",
    "pycharm": {
     "name": "#%% md\n"
    }
   },
   "source": [
    "### b. (30 баллов) Метод ALS\n",
    "Реализуйте метод ALS (alternating least squares) с ортогонализацией (см. лекции).\n",
    "\n",
    "Вам будет необходимо вернуть две матрицы: $U$ и $V^\\top$, образующие скелетное разложение результирующего приближения; где $U$ имеет ортонормированные столбцы. Также нужно вернуть 3 списка:\n",
    "\n",
    "\n",
    "*   Список значений функционала $f(U_k, V^\\top_k) = \\|A - U_k V^\\top_k\\|_F$\n",
    "\n",
    "*   Список изменений значений функционала $\\delta_k = f(U_{k-1}, V^\\top_{k-1}) - f(U_k, V^\\top_k)$\n",
    "\n",
    "*   Список растояний между пространствами $\\|P(U_{k-1}) - P(U_{k})\\|_2$\n",
    "\n",
    "В качестве критерия остановки будем использовать величину $\\delta_k$. При значении $\\delta_k \\le tolerance$ алгоритм должен остановиться. При указании `debug=True` печатайте номер текущей итерации и последнюю $\\delta_k$, а также любую дополнительную интересную вам информацию. \n",
    "\n",
    "Используйте реализованные выше функции. Для вычисления фробениусовой нормы разреженной матрицы используйте `norm` из `scipy.sparse.linalg`.\n",
    "\n",
    "**Замечание:** Если вы не реализовали dist_between_subspaces, то вместо третьего списка возращайте None."
   ]
  },
  {
   "cell_type": "code",
   "execution_count": 34,
   "metadata": {
    "id": "syRWnqliTyOE",
    "pycharm": {
     "name": "#%%\n"
    }
   },
   "outputs": [],
   "source": [
    "from scipy.sparse.linalg import norm as sparse_norm\n",
    "\n",
    "def ALS(A, rank, tolerance=1e-2, debug=False):\n",
    "    \"\"\"\n",
    "        Input\n",
    "            A: 2D m x n numpy array\n",
    "            rank: required rank of the approximation\n",
    "            tolerance: stop when delta_k is less or equal to it\n",
    "            debug: print debug information on each iteration\n",
    "            \n",
    "        Output\n",
    "            U, VT: m x rank, rank x n numpy arrays forming skeleton decomposition;\n",
    "                   columns of matrix U are orthonormal\n",
    "            fs: list of f(U_k, VT_k)\n",
    "            deltas: list of f(U_{k-1}, VT_{k-1}) - f(U_k, VT_k)\n",
    "            dists: list of distances between Im(U_{k-1}) and Im(U_k)\n",
    "    \"\"\"\n",
    "    \n",
    "    sparsed_A = sparse_norm(A)\n",
    "    diff = 1e99\n",
    "    U, _ = np.linalg.qr(np.random.randn(A.shape[0], rank))\n",
    "    V, _ = np.linalg.qr(np.random.randn(A.shape[1], rank))\n",
    "\n",
    "    func = [als_functional(A, sparsed_A, U, V.T)]\n",
    "    delta, dist = [], []\n",
    "    it = 0\n",
    "\n",
    "    while tolerance < diff:\n",
    "        it += 1\n",
    "        U_i = A @ V\n",
    "        Qr_i, _ = np.linalg.qr(U_i)\n",
    "        V = A.T @ Qr_i\n",
    "        dist.append(dist_between_subspaces(U, Qr_i))\n",
    "        U = Qr_i\n",
    "\n",
    "        cur_func = als_functional(A, sparsed_A, U, V.T)\n",
    "        diff = func[-1] - cur_func\n",
    "        delta.append(func[-1] - cur_func)\n",
    "        func.append(cur_func)\n",
    "        if debug:\n",
    "            print(\"epoch:\", it)\n",
    "            print(\"diff: \", diff)\n",
    "\n",
    "\n",
    "    return U, V.T, func, delta, dist\n",
    "        \n"
   ]
  },
  {
   "cell_type": "markdown",
   "metadata": {
    "id": "L6dYV_Y0TyOE",
    "pycharm": {
     "name": "#%% md\n"
    }
   },
   "source": [
    "Запустим метод на матрице `A_train` и посмотрим на убывание расстояния между соседними подпространствами от номера итерации."
   ]
  },
  {
   "cell_type": "code",
   "execution_count": 35,
   "metadata": {
    "id": "8jOy0WGPTyOE",
    "pycharm": {
     "name": "#%%\n"
    }
   },
   "outputs": [
    {
     "name": "stdout",
     "output_type": "stream",
     "text": [
      "epoch: 1\n",
      "diff:  200.771738115503\n",
      "epoch: 2\n",
      "diff:  139.34003568334492\n",
      "epoch: 3\n",
      "diff:  14.970904941326125\n",
      "epoch: 4\n",
      "diff:  4.505419562619863\n",
      "epoch: 5\n",
      "diff:  2.0283376960721853\n",
      "epoch: 6\n",
      "diff:  1.025265600000921\n",
      "epoch: 7\n",
      "diff:  0.5420078357474267\n",
      "epoch: 8\n",
      "diff:  0.3004721618908661\n",
      "epoch: 9\n",
      "diff:  0.1752920550802628\n",
      "epoch: 10\n",
      "diff:  0.10728694446174813\n",
      "epoch: 11\n",
      "diff:  0.0684459291226176\n"
     ]
    },
    {
     "data": {
      "image/png": "[encoded data removed]",
      "text/plain": [
       "<Figure size 864x360 with 2 Axes>"
      ]
     },
     "metadata": {
      "needs_background": "light"
     },
     "output_type": "display_data"
    }
   ],
   "source": [
    "rank = 30\n",
    "U_als, VT_als, fs, deltas, dists = ALS(A_train, rank, 0.1, debug=True)\n",
    "\n",
    "fig, axs = plt.subplots(figsize=(12, 5), ncols=2)\n",
    "\n",
    "axs[0].plot(fs)\n",
    "axs[1].plot(deltas)\n",
    "axs[1].semilogy();"
   ]
  },
  {
   "cell_type": "code",
   "execution_count": 36,
   "metadata": {
    "id": "SjD9StBsZmn2",
    "pycharm": {
     "name": "#%%\n"
    }
   },
   "outputs": [
    {
     "data": {
      "image/png": "[encoded data removed]",
      "text/plain": [
       "<Figure size 432x288 with 1 Axes>"
      ]
     },
     "metadata": {
      "needs_background": "light"
     },
     "output_type": "display_data"
    }
   ],
   "source": [
    "# если выполнили a.3\n",
    "\n",
    "plt.plot(dists);"
   ]
  },
  {
   "cell_type": "markdown",
   "metadata": {
    "id": "LbvYe-FlTyOF",
    "pycharm": {
     "name": "#%% md\n"
    }
   },
   "source": [
    "### c. (10 баллов) Сравнение с рандомизированным SVD и разреженным SVD\n",
    "\n",
    "Примените рандомизированное SVD из sklearn, а также SVD из scipy, поддерживающее разреженные матрицы (используйте тот же ранг 30, что и для ALS). Сравните все три результата по значению функционала."
   ]
  },
  {
   "cell_type": "code",
   "execution_count": 37,
   "metadata": {
    "id": "y8XbjL63TyOF",
    "pycharm": {
     "name": "#%%\n"
    }
   },
   "outputs": [
    {
     "name": "stderr",
     "output_type": "stream",
     "text": [
      "/home/artem/anaconda3/lib/python3.9/site-packages/sklearn/utils/extmath.py:368: FutureWarning: If 'random_state' is not supplied, the current default is to use 0 as a fixed seed. This will change to  None in version 1.2 leading to non-deterministic results that better reflect nature of the randomized_svd solver. If you want to silence this warning, set 'random_state' to an integer seed or to None explicitly depending if you want your code to be deterministic or not.\n",
      "  warnings.warn(\n"
     ]
    },
    {
     "name": "stdout",
     "output_type": "stream",
     "text": [
      "ours: 1635.6389946574045\n",
      "rand: 1635.6203716021637\n",
      "sparsed: 1635.4817715278884\n"
     ]
    }
   ],
   "source": [
    "from sklearn.utils.extmath import randomized_svd\n",
    "from scipy.sparse.linalg import svds\n",
    "\n",
    "A_norm = sparse_norm(A_train)\n",
    "\n",
    "func = als_functional(A_train, A_norm, U_als, VT_als)\n",
    "U_rd, Sigma_rd, VT_rd = randomized_svd(A_train, rank)\n",
    "U_sparsed, Sigma_sparsed, VT_sparsed = svds(A_train, rank)\n",
    "\n",
    "print(\"ours:\", func)\n",
    "print(\"rand:\", als_functional(A_train, A_norm, U_rd @ np.diag(Sigma_rd), VT_rd))\n",
    "print(\"sparsed:\", als_functional(A_train, A_norm, U_sparsed @ np.diag(Sigma_sparsed), VT_sparsed))"
   ]
  },
  {
   "attachments": {},
   "cell_type": "markdown",
   "metadata": {},
   "source": [
    "Функционал в нашем случае по значению немного больше, но разница почти незаметна."
   ]
  },
  {
   "cell_type": "markdown",
   "metadata": {
    "id": "HKZ40jk8TyOF",
    "pycharm": {
     "name": "#%% md\n"
    }
   },
   "source": [
    "## d. (25 баллов) Построение рекомендаций\n",
    "  1. **(10 баллов)** Научимся рекомендовать пользователям из тестовой группы фильмы на основе части их оценок. Напишем функцию `recommend`, которая будет принимать матрицу $V^\\top$ из нашей модели, матрицу `(user_id, movie_id) -> binary rating` (то есть того же формата, что и наша основная матрица `A`), а также число `n_recs` &mdash; количество фильмов, которые мы хотим порекомендовать. Возвращать функция будет top-`n_recs` рекомендаций, то есть `n_recs` фильмов, которые могут пользователю понравиться, в порядке убывания предсказанной привлекательности.\n",
    "\n",
    "  Чтобы построить рекомендацию, необходимо ортогонально спроецировать вектор, соответствующий новому пользователю (про которого мы знаем часть оценок), на пространство $L$, образуемое строками матрицы $V^\\top$. Иными словами, мы должны взять ближайший вектор из $L$. Он будет содержать предсказанные нашей моделью рейтинги. Дальше дело техники :) Но не забудьте, что `known_ratings` содержит векторы, соответствующие не одному пользователю, а батчу из `batch_size` пользователей. Хотя и (слава numpy) код остаётся почти дословно такой же.  **Подсказка:** используйте функцию `np.argsort`."
   ]
  },
  {
   "cell_type": "code",
   "execution_count": 38,
   "metadata": {
    "id": "_Q3lIQY7TyOG",
    "pycharm": {
     "name": "#%%\n"
    }
   },
   "outputs": [],
   "source": [
    "def recommend(VT, known_ratings, n_recs):\n",
    "    \"\"\"\n",
    "        Input\n",
    "            VT: 2D numpy array\n",
    "            known_rating: sparse batch_size x n_movies array\n",
    "            n_recs: requested number of recommendations\n",
    "            \n",
    "        Output\n",
    "            recs: batch_size x n_recs array of movies to recommend, with descending predicted rating\n",
    "    \"\"\"\n",
    "    Q, _ = np.linalg.qr(VT.T)\n",
    "    L = Q @ (Q.T @ known_ratings.T)\n",
    "    return (np.argsort(np.abs(L), axis=0)[::-1])[:n_recs].T"
   ]
  },
  {
   "cell_type": "markdown",
   "metadata": {
    "id": "j9Ub94g2TyOG",
    "pycharm": {
     "name": "#%% md\n"
    }
   },
   "source": [
    "Для проверки нашей модели для каждого пользователя из тестовой выборки оценим так называемый **hit rate**. Для этого выбросим одну из его оценок, вызовем функцию `recommend` и посмотрим, попал ли выкинутый фильм в подборку. Если попал &mdash; это hit, иначе не hit. Для того, чтобы эффективно проделать этот эксперимент на всех тестовых данных, сделаем следующее: разобьём тестовую матрицу на батчи по 500 пользователей и будем предсказывать сразу для целого батча. Вычислим вектор размера `n_test`, где для каждого пользователя указано, на каком месте в рекомендованной подборке оказался скрытый фильм (или число `n_recs`, если скрытого фильма не нашлось среди top-n  рекомендаций)."
   ]
  },
  {
   "cell_type": "code",
   "execution_count": 39,
   "metadata": {
    "id": "ZJV-DwZOTyOG",
    "pycharm": {
     "name": "#%%\n"
    }
   },
   "outputs": [],
   "source": [
    "from scipy.sparse import find\n",
    "\n",
    "def evaluate_model(VT, A_test, n_recs, batch_size=500):\n",
    "    \"\"\"\n",
    "        Input\n",
    "            VT: 2D numpy array representing the rating model\n",
    "            A_test: sparse n_test x n_movies array corresponding to new users\n",
    "            n_recs: requested number of recommendations\n",
    "            batch_size: number of users to build recommendations for in a single call to recommend\n",
    "\n",
    "        Output\n",
    "            hit_idx: list of n_test ints: place of secret movie \n",
    "                     in top-n_recs recommendations (or n_recs if it is missing)\n",
    "    \"\"\"\n",
    "    secrets = []\n",
    "    nonempty_users = []\n",
    "    A_test = A_test.copy()\n",
    "    for user in range(A_test.shape[0]):\n",
    "        _, good, _ = find(A_test[user,:])\n",
    "        if len(good) == 0:\n",
    "            continue\n",
    "        nonempty_users.append(user)\n",
    "        secret = np.random.choice(good, 1)[0]\n",
    "        A_test[user, secret] = 0\n",
    "        secrets.append(secret)\n",
    "    hit_idx = []\n",
    "    for i in range(0, len(nonempty_users), batch_size):\n",
    "        # Build recomendations for a batch.\n",
    "        recommendations = recommend(VT, A_test[nonempty_users[i:i + batch_size], :], n_recs + 1)\n",
    "        # Place secret in the last column so that the following .argmax finds it.\n",
    "        recommendations[:,-1] = secrets[i: i + batch_size]\n",
    "        # Find secret among the recommendations and place its index into batch_hit_idx.\n",
    "        batch_hit_idx = (recommendations == np.array([secrets[i:i + batch_size]]).T).argmax(1)\n",
    "        hit_idx += batch_hit_idx.tolist()\n",
    "    return hit_idx"
   ]
  },
  {
   "cell_type": "markdown",
   "metadata": {
    "id": "BTSTcoZyTyOG",
    "pycharm": {
     "name": "#%% md\n"
    }
   },
   "source": [
    "  2. **(15 баллов)** Научимся вычислять hit rate для данной модели и заданного количества top-n рекомендаций. Для этого напишем функцию `get_hit_rates`, которая будет принимать $V^\\top$ из нашей модели, вектора оценок для новых пользователей `A_test` и список натуральных чисел `n_recs`. Для каждого из этих чисел необходимо посчитать средний hit rate по всем пользователям из `A_test`, то есть, например, для `n_recs == [5, 10, 20]` нужно вернуть список средних хитрейтов для top-5, top-10 и top-20. **Обратите внимание:** вызвать функцию `evaluate_model` нужно только один раз."
   ]
  },
  {
   "cell_type": "code",
   "execution_count": 43,
   "metadata": {
    "id": "rjpcCThdTyOH",
    "pycharm": {
     "name": "#%%\n"
    }
   },
   "outputs": [],
   "source": [
    "def get_hit_rates(VT, A_test, n_recs):\n",
    "    \"\"\"\n",
    "        Input\n",
    "            VT: 2D numpy array representing the rating model\n",
    "            A_test: sparse n_test x n_movies array corresponding to new users \n",
    "            n_recs: list of ints: number of top recomendations to evaluate hit rate for\n",
    "        Output\n",
    "            hit_rates: list of float: hit rate for each element of n_recs\n",
    "    \n",
    "    \"\"\"\n",
    "    res = []\n",
    "    eval = evaluate_model(VT, A_test, max(n_recs))\n",
    "    for i in range(len(n_recs)):\n",
    "      cnt = 0\n",
    "      for el in eval:\n",
    "          if el < n_recs[i]:\n",
    "              cnt += 1\n",
    "      res.append(cnt / len(eval) * 100)\n",
    "\n",
    "    return res"
   ]
  },
  {
   "cell_type": "markdown",
   "metadata": {
    "id": "wYXL52ivTyOH",
    "pycharm": {
     "name": "#%% md\n"
    }
   },
   "source": [
    "Проверьте себя: вычислите хитрейт на top-10 рекомендаций для Sparse SVD ранга 30. Чтобы вычисления рекомендаций были побыстрее, используйте не всю матрицу `A_test`, а, например, первые 1000 строк. Хитрейт должен получится в районе 12-15%. Самое время подебажить своё решение, если числа сильно расходятся."
   ]
  },
  {
   "cell_type": "code",
   "execution_count": 44,
   "metadata": {
    "id": "GDg20id6TyOH",
    "pycharm": {
     "name": "#%%\n"
    }
   },
   "outputs": [
    {
     "name": "stdout",
     "output_type": "stream",
     "text": [
      "[11.824668705402651]\n",
      "[9.683995922528032]\n",
      "[10.703363914373089]\n",
      "[11.722731906218145]\n",
      "[9.480122324159021]\n",
      "[10.397553516819572]\n",
      "[10.805300713557594]\n",
      "[10.601427115188583]\n",
      "[11.824668705402651]\n",
      "[11.518858307849133]\n"
     ]
    }
   ],
   "source": [
    "_, _, VT_sparsed = svds(A_test[:1000, :], k=rank)\n",
    "for i in range(10):\n",
    "    print(get_hit_rates(VT_sparsed, A_test[:1000,:], [10]))"
   ]
  },
  {
   "cell_type": "markdown",
   "metadata": {
    "id": "BA5GzyK3TyOH",
    "pycharm": {
     "name": "#%% md\n"
    }
   },
   "source": [
    "Теперь можно построить графики зависимости hit rate от количества рекомендаций, а также от ранга модели. Сравним результаты, которые дают три алгоритма: ALS, Sparse SVD и рандомизированный SVD."
   ]
  },
  {
   "cell_type": "code",
   "execution_count": 45,
   "metadata": {
    "id": "SgWOKFW1TyOH",
    "pycharm": {
     "name": "#%%\n"
    }
   },
   "outputs": [
    {
     "data": {
      "image/png": "[encoded data removed]",
      "text/plain": [
       "<Figure size 1440x288 with 3 Axes>"
      ]
     },
     "metadata": {
      "needs_background": "light"
     },
     "output_type": "display_data"
    }
   ],
   "source": [
    "from scipy.sparse.linalg import svds\n",
    "\n",
    "n_recs = list(range(5, 101, 5))\n",
    "\n",
    "plt.rcParams.update({'font.size': 14})\n",
    "_, (ax_svd, ax_als, ax_rand) = plt.subplots(1,3,figsize=(20, 4),sharey=True)\n",
    "\n",
    "ax_svd.set_title(\"SVD\")\n",
    "ax_svd.set_ylabel(\"Hit rate\")\n",
    "ax_als.set_title(\"ALS\")\n",
    "ax_rand.set_title(\"Rand SVD\")\n",
    "for rank in [5, 25, 50]:\n",
    "    _, _, VT_svd = svds(A_train, k=rank)\n",
    "    _, VT_als, _, _, _ = ALS(A_train, rank)\n",
    "    _, _, VT_rand = randomized_svd(A_train, rank)\n",
    "    for VT, ax in zip([VT_svd, VT_als, VT_rand], [ax_svd, ax_als, ax_rand]):\n",
    "        ax.set_xlabel(\"Number of recomendations\")\n",
    "        hit_rates = get_hit_rates(VT, A_test[:1000,:], n_recs)\n",
    "        line, = ax.plot(n_recs, hit_rates)\n",
    "        line.set_label('rank = {}'.format(rank))\n",
    "        ax.legend()"
   ]
  },
  {
   "cell_type": "markdown",
   "metadata": {
    "id": "AXwiSVujTyOH",
    "pycharm": {
     "name": "#%% md\n"
    }
   },
   "source": [
    "Какой ранг приближения оказался оптимальным для нашей модели в случае каждого алгоритма?"
   ]
  },
  {
   "attachments": {},
   "cell_type": "markdown",
   "metadata": {
    "id": "4u_qcZU_8e_q",
    "pycharm": {
     "name": "#%% md\n"
    }
   },
   "source": [
    "ранг 25 больше всего похож на успех. Видимо, 5 слишком мало, чтобы заложить какие-то закономерности, а 50 уже переобучаемся."
   ]
  },
  {
   "cell_type": "markdown",
   "metadata": {
    "id": "ckrRNR8FTyOI",
    "pycharm": {
     "name": "#%% md\n"
    }
   },
   "source": [
    "## Бонус. Higher-order SVD (100 баллов)"
   ]
  },
  {
   "cell_type": "markdown",
   "metadata": {
    "id": "F4CTYLs114Kw",
    "pycharm": {
     "name": "#%% md\n"
    }
   },
   "source": [
    "**В бонусе разрешается использовать циклы только по размерности.**"
   ]
  },
  {
   "cell_type": "markdown",
   "metadata": {
    "id": "KEv9r59gTyOI",
    "pycharm": {
     "name": "#%% md\n"
    }
   },
   "source": [
    "1. (**20 баллов**) Напишите функцию ```tuck2full(G, Us)```, возвращающую полный тензор размера $n_1\\times n_2 \\times \\ldots \\times n_d$ по его разложению Таккера. Предусмотрите, чтобы функция работала и в случае, если в матрицах $U_1,U_2, \\ldots, U_d$ строк меньше, чем столбцов. Вместо циклов используйте функцию ```np.einsum```."
   ]
  },
  {
   "cell_type": "code",
   "execution_count": null,
   "metadata": {
    "id": "zkoj_t3LTyOI",
    "pycharm": {
     "name": "#%%\n"
    }
   },
   "outputs": [],
   "source": [
    "def tuck2full(G, Us):\n",
    "    \"\"\"\n",
    "        Input\n",
    "            G: d-dimensional numpy array - Tucker core of size (r1, r2, ..., rd)\n",
    "            Us: tuple of 2D numpy arrays - Tucker factors of size (n1, r1), ..., (nd, rd)\n",
    "\n",
    "        Output\n",
    "            A: d-dimensional numpy array of the size (n1, n2, ..., nd)\n",
    "    \"\"\"\n",
    "    # TO BE FILLED\n",
    "    raise NotImplementedError()"
   ]
  },
  {
   "cell_type": "markdown",
   "metadata": {
    "id": "miBsDExrTyOI",
    "pycharm": {
     "name": "#%% md\n"
    }
   },
   "source": [
    "2. (**35 баллов**) Реализуйте higher-order SVD алгоритм для нахождения разложения Таккера данного $d$-мерного массива $A\\in\\mathbb{R}^{n_1\\times \\ldots \\times n_d}$. Алгоритм должен находить малоранговое приближение $A$ с относительной точностью не хуже $\\varepsilon$ во Фробениусовой норме. Функция должна вернуть ядро и факторы Таккера у приближающего тензора. Для получения ядра Таккера будет удобно воспользоваться функцией ```tuck2full```."
   ]
  },
  {
   "cell_type": "code",
   "execution_count": null,
   "metadata": {
    "id": "1hgVftQgTyOI",
    "pycharm": {
     "name": "#%%\n"
    }
   },
   "outputs": [],
   "source": [
    "def hosvd(A, eps):\n",
    "    \"\"\"\n",
    "        Input\n",
    "            A: 3D numpy array\n",
    "            eps: accuracy of Tucker approximation\n",
    "\n",
    "        Output\n",
    "            G: d-dimensional numpy array - Tucker core of size (r1, r2, ..., rd)\n",
    "            Us: tuple of 2D numpy arrays - Tucker factors of size (n1, r1), ..., (nd, rd)\n",
    "    \"\"\"\n",
    "    # TO BE FILLED\n",
    "    raise NotImplementedError()"
   ]
  },
  {
   "cell_type": "markdown",
   "metadata": {
    "id": "KKuGY2KdTyOI",
    "pycharm": {
     "name": "#%% md\n"
    }
   },
   "source": [
    "3. (**5 баллов**) Примените функцию ```hosvd``` к тензору размера $25 \\times 50 \\times 75 \\times 100$ с элементами\n",
    "$$\n",
    "    a_{ijkl} = \\frac{1}{i + j + k + l + 1}, \\quad i,j,k,l=0,1,...\n",
    "$$\n",
    "для малорангового приближения с точностью $10^{-6}$. Массив $A$ соберите с помощью функции ```np.meshgrid```. Напечатайте получившиеся ранги и относительную ошибку полученного малорангового приближения (для этого используйте функцию ```tuck2full```)."
   ]
  },
  {
   "cell_type": "code",
   "execution_count": null,
   "metadata": {
    "id": "wjfs3z8gTyOJ",
    "pycharm": {
     "name": "#%%\n"
    }
   },
   "outputs": [],
   "source": [
    "# TO BE FILLED"
   ]
  },
  {
   "cell_type": "markdown",
   "metadata": {
    "id": "6ws5NBZk2Bbq",
    "pycharm": {
     "name": "#%% md\n"
    }
   },
   "source": [
    "4. (**15 баллов**) Докажите, что норма Фробениуса приближения HOSVD $A'$ совпадает с её ядром Таккера $G'$:\n",
    "\n",
    "$$\n",
    "  \\|A'\\|_F = \\|G'\\|_F\n",
    "$$"
   ]
  },
  {
   "cell_type": "markdown",
   "metadata": {
    "id": "5ROu4qdE2E2T",
    "pycharm": {
     "name": "#%% md\n"
    }
   },
   "source": [
    "**YOUR WORDS GO HERE**"
   ]
  },
  {
   "cell_type": "markdown",
   "metadata": {
    "id": "1kJsjUll2Cvz",
    "pycharm": {
     "name": "#%% md\n"
    }
   },
   "source": [
    "5. (**25 баллов**) Для заданного таккеровского разложения напишите функцию вычисления его нормы. Примените ее к разложению тензора размера 10000 x 10000 x 10000 со случайными Таккеровскими факторами и ядром мультилинейного ранга (10, 10, 10)."
   ]
  },
  {
   "cell_type": "code",
   "execution_count": null,
   "metadata": {
    "id": "7TtsdZKs1_Gs",
    "pycharm": {
     "name": "#%%\n"
    }
   },
   "outputs": [],
   "source": [
    "def tuck_norm(G, Us):\n",
    "    \"\"\"\n",
    "        Input\n",
    "            G: d-dimensional numpy array - Tucker core of size (r1, r2, ..., rd)\n",
    "            Us: tuple of 2D numpy arrays - Tucker factors of size (n1, r1), ..., (nd, rd)\n",
    "\n",
    "        Output\n",
    "            norm: Frobenius norm of A = [G; U1 ... Ud]\n",
    "    \"\"\"\n",
    "    # TO BE FILLED\n",
    "    raise NotImplementedError()"
   ]
  }
 ],
 "metadata": {
  "colab": {
   "provenance": []
  },
  "kernelspec": {
   "display_name": "Python 3",
   "language": "python",
   "name": "python3"
  },
  "language_info": {
   "codemirror_mode": {
    "name": "ipython",
    "version": 3
   },
   "file_extension": ".py",
   "mimetype": "text/x-python",
   "name": "python",
   "nbconvert_exporter": "python",
   "pygments_lexer": "ipython3",
   "version": "3.9.7"
  }
 },
 "nbformat": 4,
 "nbformat_minor": 0
}
